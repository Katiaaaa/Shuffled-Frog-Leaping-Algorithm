{
 "cells": [
  {
   "cell_type": "markdown",
   "metadata": {},
   "source": [
    "# Shuffled Frog Leaping Algorithm - Python"
   ]
  },
  {
   "cell_type": "markdown",
   "metadata": {},
   "source": [
    "## Introduction"
   ]
  },
  {
   "cell_type": "markdown",
   "metadata": {},
   "source": [
    "This is an optimization algorithm which can be used to optimize any given mathematical model or equation. IT is derived from observing the movement of frogs while they search fro a food source. Frogs are divided into groups(called memeplexes) and take advantage from the knowledge of other groups. From each of the group the worst frog tries to improve its position inside the group which improves the overall group and ultimately the colony."
   ]
  },
  {
   "cell_type": "markdown",
   "metadata": {},
   "source": [
    "## Implementation"
   ]
  },
  {
   "cell_type": "markdown",
   "metadata": {},
   "source": [
    "The implementation of this algorithm is done in python using a few third party libraries and is fairly optimized for speed.\n",
    "The stack used for this is as given below:  \n",
    "[Python3](https://www.python.org/) Main coding language  \n",
    "[Numpy](http://www.numpy.org/) For vectorized mathematical processing  \n",
    "[Matplotlib](https://matplotlib.org/) Graph plotting  \n",
    "[Seaborn](https://seaborn.pydata.org/) Graph Styling(optional)\n",
    "  \n",
    "The environment for testing is:  \n",
    "[Kubuntu 18.04](https://kubuntu.org/)"
   ]
  },
  {
   "cell_type": "markdown",
   "metadata": {},
   "source": [
    "## Problem Description"
   ]
  },
  {
   "cell_type": "markdown",
   "metadata": {},
   "source": [
    "This algorithm is used to optimize a mathematical function. The function to optimize is a simple function which calculates the euclidean distance from the origin. We try to minimize this function, it's global minimum lies at the origin i.e. 0. The function works for n-dimensional data but we use only 2-dimensional data for demonstration and testing."
   ]
  },
  {
   "cell_type": "markdown",
   "metadata": {},
   "source": [
    "## Algorithm Steps"
   ]
  },
  {
   "cell_type": "markdown",
   "metadata": {},
   "source": [
    "### 1. Frog population sorting and division"
   ]
  },
  {
   "cell_type": "markdown",
   "metadata": {},
   "source": [
    "First we need to initial n number of frogs to use. Then these frogs are divided into m number of memeplexes. For the global population of frogs we sort them into descending order of fitness. Their fitness is decided in this case, by the minimum distance to the origin.  \n",
    "Then all these frogs are divided into memeplexes by their order of fitness, in a way that the top fitness frogs are in the memeplexes by their order. For example if there are 2 memeplexes, then the highest fitness frog is in memeplex 1, the 2nd fittest frog is in memeplex 2, 3rd fittest frog is again in memeplex 1 and so on."
   ]
  },
  {
   "cell_type": "markdown",
   "metadata": {},
   "source": [
    "### 2. Local search for each memeplex(group)"
   ]
  },
  {
   "cell_type": "markdown",
   "metadata": {},
   "source": [
    "We perform a local search for all memeplexes individually for a number of iterations."
   ]
  },
  {
   "cell_type": "markdown",
   "metadata": {},
   "source": [
    "#### 2.1. Move worst frog w.r.t best frog"
   ]
  },
  {
   "cell_type": "markdown",
   "metadata": {},
   "source": [
    "First we move the worst frog in the memeplex with respect to the best frog in it's own memeplex. The movement is given as $$ frog_{worst} = frog_{w} + (random * (frog_{best} - frog_{worst})$$ Where $random$ is a random selected number from $0$ to $1$  \n",
    "Then we re-check it's fitness to see if it performs better than it's previous position. If not we try the next step, otherwise we select this position as the new position for the worst frog."
   ]
  },
  {
   "cell_type": "markdown",
   "metadata": {},
   "source": [
    "#### 2.2. Move worst frog w.r.t. greatest frog"
   ]
  },
  {
   "cell_type": "markdown",
   "metadata": {},
   "source": [
    "If the previous step doesn't improve the fitness of the worst frog we then move the worst frog with respect the best frog in the overall population. The move is the same as before but with best frog replaced by greatest frog. $$ frog_{worst} = frog_{w} + (random * (frog_{greatest} - frog_{worst})$$ Where $random$ is a random selected number from $0$ to $1$  \n",
    "Then we re-check it's fitness to see if it performs better than it's previous position. If not we try the next step, otherwise we select this position as the new position for the worst frog."
   ]
  },
  {
   "cell_type": "markdown",
   "metadata": {},
   "source": [
    "#### 2.3. Select random position"
   ]
  },
  {
   "cell_type": "markdown",
   "metadata": {},
   "source": [
    "If both the above steps do not yield a better result we simply set the frog to a new random selected position."
   ]
  },
  {
   "cell_type": "markdown",
   "metadata": {},
   "source": [
    "### 3. Shuffle Memeplexes"
   ]
  },
  {
   "cell_type": "markdown",
   "metadata": {},
   "source": [
    "We shuffle the memeplexes after the local search so that the frogs are redistributed between all the memplexes and this allows the memeplexes to improve based on the knowledge of the other memeplexes."
   ]
  },
  {
   "cell_type": "markdown",
   "metadata": {},
   "source": [
    "### 4. Termination condition"
   ]
  },
  {
   "cell_type": "markdown",
   "metadata": {},
   "source": [
    "We can use any threshold for the termination condition of the search. In this implementation we use the number of iterations as the termination condition."
   ]
  },
  {
   "cell_type": "markdown",
   "metadata": {},
   "source": [
    "## Results"
   ]
  },
  {
   "cell_type": "markdown",
   "metadata": {},
   "source": [
    "First we initialize the environment."
   ]
  },
  {
   "cell_type": "code",
   "execution_count": 2,
   "metadata": {},
   "outputs": [],
   "source": [
    "%matplotlib inline\n",
    "from sfla import *\n",
    "import numpy as np\n",
    "import matplotlib.pyplot as plt\n",
    "import seaborn as sns\n",
    "sns.set_style(\"darkgrid\")\n",
    "sns.set_context(\"notebook\")"
   ]
  },
  {
   "cell_type": "markdown",
   "metadata": {},
   "source": [
    "Then we run the algorithm"
   ]
  },
  {
   "cell_type": "code",
   "execution_count": 3,
   "metadata": {},
   "outputs": [],
   "source": [
    "solun, frogs, memeplexes = sfla(opt_func, 100, 2, 1, 0, 5, 25, 50)"
   ]
  },
  {
   "cell_type": "markdown",
   "metadata": {},
   "source": [
    "Finally we display the results"
   ]
  },
  {
   "cell_type": "code",
   "execution_count": 4,
   "metadata": {},
   "outputs": [
    {
     "name": "stdout",
     "output_type": "stream",
     "text": [
      "Optimal Solution (closest to zero): [0.09178866 0.06566641]\n"
     ]
    },
    {
     "data": {
      "image/png": "[encoded data removed]",
      "text/plain": [
       "<Figure size 432x288 with 1 Axes>"
      ]
     },
     "metadata": {},
     "output_type": "display_data"
    }
   ],
   "source": [
    "print(\"Optimal Solution (closest to zero): {}\".format(solun))\n",
    "# Place memeplexes\n",
    "for idx, memeplex in enumerate(memeplexes):\n",
    "    plt.scatter(frogs[memeplex, 0], frogs[memeplex, 1], marker='x', label=\"memeplex {}\".format(idx))\n",
    "plt.scatter(solun[0], solun[1], marker='o', label=\"Optimal Solution\")\n",
    "plt.scatter(0, 0, marker='*', label='Actual Solution')\n",
    "# Plot properties\n",
    "plt.legend()\n",
    "plt.xlabel(\"x-axis\")\n",
    "plt.ylabel(\"y-axis\")\n",
    "plt.title(\"Shuffled Frogs\")\n",
    "# Show plot\n",
    "plt.show()"
   ]
  }
 ],
 "metadata": {
  "kernelspec": {
   "display_name": "Python 3",
   "language": "python",
   "name": "python3"
  },
  "language_info": {
   "codemirror_mode": {
    "name": "ipython",
    "version": 3
   },
   "file_extension": ".py",
   "mimetype": "text/x-python",
   "name": "python",
   "nbconvert_exporter": "python",
   "pygments_lexer": "ipython3",
   "version": "3.6.7"
  }
 },
 "nbformat": 4,
 "nbformat_minor": 2
}
